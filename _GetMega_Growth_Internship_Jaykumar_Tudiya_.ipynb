{
  "nbformat": 4,
  "nbformat_minor": 0,
  "metadata": {
    "colab": {
      "name": "\"GetMega Growth Internship - Jaykumar Tudiya\".ipynb",
      "provenance": []
    },
    "kernelspec": {
      "name": "python3",
      "display_name": "Python 3"
    },
    "language_info": {
      "name": "python"
    }
  },
  "cells": [
    {
      "cell_type": "code",
      "metadata": {
        "id": "AbtX9IB_75Ot"
      },
      "source": [
        "import pandas as pd\n",
        "import numpy as np\n",
        "from datetime import datetime\n",
        "import math\n"
      ],
      "execution_count": 5,
      "outputs": []
    },
    {
      "cell_type": "code",
      "metadata": {
        "colab": {
          "base_uri": "https://localhost:8080/",
          "height": 416
        },
        "id": "GukfMzzR8cDw",
        "outputId": "4ace1baf-a88c-4d73-bb79-1472f62e4ed5"
      },
      "source": [
        "# Reading the User Demographics Excel file to Pandas DataFrame \n",
        "df1 = pd.read_excel(\"/content/User Demographics.xlsx\")\n",
        "df1"
      ],
      "execution_count": 10,
      "outputs": [
        {
          "output_type": "execute_result",
          "data": {
            "text/html": [
              "<div>\n",
              "<style scoped>\n",
              "    .dataframe tbody tr th:only-of-type {\n",
              "        vertical-align: middle;\n",
              "    }\n",
              "\n",
              "    .dataframe tbody tr th {\n",
              "        vertical-align: top;\n",
              "    }\n",
              "\n",
              "    .dataframe thead th {\n",
              "        text-align: right;\n",
              "    }\n",
              "</style>\n",
              "<table border=\"1\" class=\"dataframe\">\n",
              "  <thead>\n",
              "    <tr style=\"text-align: right;\">\n",
              "      <th></th>\n",
              "      <th>User Id</th>\n",
              "      <th>State (entered by user)</th>\n",
              "      <th>Gender</th>\n",
              "    </tr>\n",
              "  </thead>\n",
              "  <tbody>\n",
              "    <tr>\n",
              "      <th>0</th>\n",
              "      <td>A9247B21</td>\n",
              "      <td>Uttar Pradesh</td>\n",
              "      <td>M</td>\n",
              "    </tr>\n",
              "    <tr>\n",
              "      <th>1</th>\n",
              "      <td>F3C79376</td>\n",
              "      <td>Chhattisgarh</td>\n",
              "      <td>F</td>\n",
              "    </tr>\n",
              "    <tr>\n",
              "      <th>2</th>\n",
              "      <td>1CC6DCF8</td>\n",
              "      <td>Jharkhand</td>\n",
              "      <td>M</td>\n",
              "    </tr>\n",
              "    <tr>\n",
              "      <th>3</th>\n",
              "      <td>69A3C687</td>\n",
              "      <td>Uttar Pradesh</td>\n",
              "      <td>M</td>\n",
              "    </tr>\n",
              "    <tr>\n",
              "      <th>4</th>\n",
              "      <td>FF5B5B7F</td>\n",
              "      <td>Karnataka</td>\n",
              "      <td>M</td>\n",
              "    </tr>\n",
              "    <tr>\n",
              "      <th>...</th>\n",
              "      <td>...</td>\n",
              "      <td>...</td>\n",
              "      <td>...</td>\n",
              "    </tr>\n",
              "    <tr>\n",
              "      <th>995</th>\n",
              "      <td>6132EE3F</td>\n",
              "      <td>West Bengal</td>\n",
              "      <td>M</td>\n",
              "    </tr>\n",
              "    <tr>\n",
              "      <th>996</th>\n",
              "      <td>6F7CB4FF</td>\n",
              "      <td>Madhya Pradesh</td>\n",
              "      <td>M</td>\n",
              "    </tr>\n",
              "    <tr>\n",
              "      <th>997</th>\n",
              "      <td>B509489A</td>\n",
              "      <td>Utharakhand</td>\n",
              "      <td>M</td>\n",
              "    </tr>\n",
              "    <tr>\n",
              "      <th>998</th>\n",
              "      <td>C9A9F3D3</td>\n",
              "      <td>West Bengal</td>\n",
              "      <td>M</td>\n",
              "    </tr>\n",
              "    <tr>\n",
              "      <th>999</th>\n",
              "      <td>4E1E927A</td>\n",
              "      <td>Uttar Pradesh</td>\n",
              "      <td>F</td>\n",
              "    </tr>\n",
              "  </tbody>\n",
              "</table>\n",
              "<p>1000 rows × 3 columns</p>\n",
              "</div>"
            ],
            "text/plain": [
              "      User Id State (entered by user) Gender\n",
              "0    A9247B21           Uttar Pradesh      M\n",
              "1    F3C79376            Chhattisgarh      F\n",
              "2    1CC6DCF8               Jharkhand      M\n",
              "3    69A3C687           Uttar Pradesh      M\n",
              "4    FF5B5B7F               Karnataka      M\n",
              "..        ...                     ...    ...\n",
              "995  6132EE3F             West Bengal      M\n",
              "996  6F7CB4FF          Madhya Pradesh      M\n",
              "997  B509489A             Utharakhand      M\n",
              "998  C9A9F3D3             West Bengal      M\n",
              "999  4E1E927A           Uttar Pradesh      F\n",
              "\n",
              "[1000 rows x 3 columns]"
            ]
          },
          "metadata": {
            "tags": []
          },
          "execution_count": 10
        }
      ]
    },
    {
      "cell_type": "code",
      "metadata": {
        "colab": {
          "base_uri": "https://localhost:8080/",
          "height": 416
        },
        "id": "w5mqtOVmA486",
        "outputId": "75d6b71c-0f32-43ab-f1b4-77a75bb63fe5"
      },
      "source": [
        "# Reading the Daily User-wise Revenue data Excel file to Pandas DataFrame \n",
        "df2 = pd.read_excel(\"/content/Daily User-wise Revenue data.xlsx\")\n",
        "df2"
      ],
      "execution_count": 9,
      "outputs": [
        {
          "output_type": "execute_result",
          "data": {
            "text/html": [
              "<div>\n",
              "<style scoped>\n",
              "    .dataframe tbody tr th:only-of-type {\n",
              "        vertical-align: middle;\n",
              "    }\n",
              "\n",
              "    .dataframe tbody tr th {\n",
              "        vertical-align: top;\n",
              "    }\n",
              "\n",
              "    .dataframe thead th {\n",
              "        text-align: right;\n",
              "    }\n",
              "</style>\n",
              "<table border=\"1\" class=\"dataframe\">\n",
              "  <thead>\n",
              "    <tr style=\"text-align: right;\">\n",
              "      <th></th>\n",
              "      <th>Date</th>\n",
              "      <th>User id</th>\n",
              "      <th>Revenue collected</th>\n",
              "    </tr>\n",
              "  </thead>\n",
              "  <tbody>\n",
              "    <tr>\n",
              "      <th>0</th>\n",
              "      <td>2021-04-01</td>\n",
              "      <td>FF5B5B7F</td>\n",
              "      <td>53</td>\n",
              "    </tr>\n",
              "    <tr>\n",
              "      <th>1</th>\n",
              "      <td>2021-04-01</td>\n",
              "      <td>18427542</td>\n",
              "      <td>68</td>\n",
              "    </tr>\n",
              "    <tr>\n",
              "      <th>2</th>\n",
              "      <td>2021-04-01</td>\n",
              "      <td>C0307F5B</td>\n",
              "      <td>85</td>\n",
              "    </tr>\n",
              "    <tr>\n",
              "      <th>3</th>\n",
              "      <td>2021-04-01</td>\n",
              "      <td>C56C2457</td>\n",
              "      <td>90</td>\n",
              "    </tr>\n",
              "    <tr>\n",
              "      <th>4</th>\n",
              "      <td>2021-04-01</td>\n",
              "      <td>E7C82918</td>\n",
              "      <td>75</td>\n",
              "    </tr>\n",
              "    <tr>\n",
              "      <th>...</th>\n",
              "      <td>...</td>\n",
              "      <td>...</td>\n",
              "      <td>...</td>\n",
              "    </tr>\n",
              "    <tr>\n",
              "      <th>14985</th>\n",
              "      <td>2021-04-30</td>\n",
              "      <td>F268AC1E</td>\n",
              "      <td>48</td>\n",
              "    </tr>\n",
              "    <tr>\n",
              "      <th>14986</th>\n",
              "      <td>2021-04-30</td>\n",
              "      <td>2A8C083D</td>\n",
              "      <td>56</td>\n",
              "    </tr>\n",
              "    <tr>\n",
              "      <th>14987</th>\n",
              "      <td>2021-04-30</td>\n",
              "      <td>1DECEC9C</td>\n",
              "      <td>68</td>\n",
              "    </tr>\n",
              "    <tr>\n",
              "      <th>14988</th>\n",
              "      <td>2021-04-30</td>\n",
              "      <td>6F7CB4FF</td>\n",
              "      <td>39</td>\n",
              "    </tr>\n",
              "    <tr>\n",
              "      <th>14989</th>\n",
              "      <td>2021-04-30</td>\n",
              "      <td>C9A9F3D3</td>\n",
              "      <td>5</td>\n",
              "    </tr>\n",
              "  </tbody>\n",
              "</table>\n",
              "<p>14990 rows × 3 columns</p>\n",
              "</div>"
            ],
            "text/plain": [
              "            Date   User id  Revenue collected\n",
              "0     2021-04-01  FF5B5B7F                 53\n",
              "1     2021-04-01  18427542                 68\n",
              "2     2021-04-01  C0307F5B                 85\n",
              "3     2021-04-01  C56C2457                 90\n",
              "4     2021-04-01  E7C82918                 75\n",
              "...          ...       ...                ...\n",
              "14985 2021-04-30  F268AC1E                 48\n",
              "14986 2021-04-30  2A8C083D                 56\n",
              "14987 2021-04-30  1DECEC9C                 68\n",
              "14988 2021-04-30  6F7CB4FF                 39\n",
              "14989 2021-04-30  C9A9F3D3                  5\n",
              "\n",
              "[14990 rows x 3 columns]"
            ]
          },
          "metadata": {
            "tags": []
          },
          "execution_count": 9
        }
      ]
    },
    {
      "cell_type": "code",
      "metadata": {
        "id": "oJrEgvQnHSwf"
      },
      "source": [
        "# Correction in the name of Attribute\n",
        "df3 = df2.rename(columns={'User id':'User Id'})"
      ],
      "execution_count": 13,
      "outputs": []
    },
    {
      "cell_type": "code",
      "metadata": {
        "colab": {
          "base_uri": "https://localhost:8080/",
          "height": 416
        },
        "id": "zqycqUDfBUni",
        "outputId": "ab3f68b5-b0da-4d89-e27b-9344fe5e5da8"
      },
      "source": [
        "# Merging the Datafrmae using Key Atrribute - User Id\n",
        "df = df1.merge(df3, on='User Id', how='left')\n",
        "df"
      ],
      "execution_count": 14,
      "outputs": [
        {
          "output_type": "execute_result",
          "data": {
            "text/html": [
              "<div>\n",
              "<style scoped>\n",
              "    .dataframe tbody tr th:only-of-type {\n",
              "        vertical-align: middle;\n",
              "    }\n",
              "\n",
              "    .dataframe tbody tr th {\n",
              "        vertical-align: top;\n",
              "    }\n",
              "\n",
              "    .dataframe thead th {\n",
              "        text-align: right;\n",
              "    }\n",
              "</style>\n",
              "<table border=\"1\" class=\"dataframe\">\n",
              "  <thead>\n",
              "    <tr style=\"text-align: right;\">\n",
              "      <th></th>\n",
              "      <th>User Id</th>\n",
              "      <th>State (entered by user)</th>\n",
              "      <th>Gender</th>\n",
              "      <th>Date</th>\n",
              "      <th>Revenue collected</th>\n",
              "    </tr>\n",
              "  </thead>\n",
              "  <tbody>\n",
              "    <tr>\n",
              "      <th>0</th>\n",
              "      <td>A9247B21</td>\n",
              "      <td>Uttar Pradesh</td>\n",
              "      <td>M</td>\n",
              "      <td>2021-04-03</td>\n",
              "      <td>4.0</td>\n",
              "    </tr>\n",
              "    <tr>\n",
              "      <th>1</th>\n",
              "      <td>A9247B21</td>\n",
              "      <td>Uttar Pradesh</td>\n",
              "      <td>M</td>\n",
              "      <td>2021-04-04</td>\n",
              "      <td>10.0</td>\n",
              "    </tr>\n",
              "    <tr>\n",
              "      <th>2</th>\n",
              "      <td>A9247B21</td>\n",
              "      <td>Uttar Pradesh</td>\n",
              "      <td>M</td>\n",
              "      <td>2021-04-10</td>\n",
              "      <td>33.0</td>\n",
              "    </tr>\n",
              "    <tr>\n",
              "      <th>3</th>\n",
              "      <td>A9247B21</td>\n",
              "      <td>Uttar Pradesh</td>\n",
              "      <td>M</td>\n",
              "      <td>2021-04-11</td>\n",
              "      <td>26.0</td>\n",
              "    </tr>\n",
              "    <tr>\n",
              "      <th>4</th>\n",
              "      <td>A9247B21</td>\n",
              "      <td>Uttar Pradesh</td>\n",
              "      <td>M</td>\n",
              "      <td>2021-04-17</td>\n",
              "      <td>43.0</td>\n",
              "    </tr>\n",
              "    <tr>\n",
              "      <th>...</th>\n",
              "      <td>...</td>\n",
              "      <td>...</td>\n",
              "      <td>...</td>\n",
              "      <td>...</td>\n",
              "      <td>...</td>\n",
              "    </tr>\n",
              "    <tr>\n",
              "      <th>14986</th>\n",
              "      <td>4E1E927A</td>\n",
              "      <td>Uttar Pradesh</td>\n",
              "      <td>F</td>\n",
              "      <td>2021-04-11</td>\n",
              "      <td>76.0</td>\n",
              "    </tr>\n",
              "    <tr>\n",
              "      <th>14987</th>\n",
              "      <td>4E1E927A</td>\n",
              "      <td>Uttar Pradesh</td>\n",
              "      <td>F</td>\n",
              "      <td>2021-04-17</td>\n",
              "      <td>105.0</td>\n",
              "    </tr>\n",
              "    <tr>\n",
              "      <th>14988</th>\n",
              "      <td>4E1E927A</td>\n",
              "      <td>Uttar Pradesh</td>\n",
              "      <td>F</td>\n",
              "      <td>2021-04-18</td>\n",
              "      <td>84.0</td>\n",
              "    </tr>\n",
              "    <tr>\n",
              "      <th>14989</th>\n",
              "      <td>4E1E927A</td>\n",
              "      <td>Uttar Pradesh</td>\n",
              "      <td>F</td>\n",
              "      <td>2021-04-24</td>\n",
              "      <td>85.0</td>\n",
              "    </tr>\n",
              "    <tr>\n",
              "      <th>14990</th>\n",
              "      <td>4E1E927A</td>\n",
              "      <td>Uttar Pradesh</td>\n",
              "      <td>F</td>\n",
              "      <td>2021-04-25</td>\n",
              "      <td>94.0</td>\n",
              "    </tr>\n",
              "  </tbody>\n",
              "</table>\n",
              "<p>14991 rows × 5 columns</p>\n",
              "</div>"
            ],
            "text/plain": [
              "        User Id State (entered by user) Gender       Date  Revenue collected\n",
              "0      A9247B21           Uttar Pradesh      M 2021-04-03                4.0\n",
              "1      A9247B21           Uttar Pradesh      M 2021-04-04               10.0\n",
              "2      A9247B21           Uttar Pradesh      M 2021-04-10               33.0\n",
              "3      A9247B21           Uttar Pradesh      M 2021-04-11               26.0\n",
              "4      A9247B21           Uttar Pradesh      M 2021-04-17               43.0\n",
              "...         ...                     ...    ...        ...                ...\n",
              "14986  4E1E927A           Uttar Pradesh      F 2021-04-11               76.0\n",
              "14987  4E1E927A           Uttar Pradesh      F 2021-04-17              105.0\n",
              "14988  4E1E927A           Uttar Pradesh      F 2021-04-18               84.0\n",
              "14989  4E1E927A           Uttar Pradesh      F 2021-04-24               85.0\n",
              "14990  4E1E927A           Uttar Pradesh      F 2021-04-25               94.0\n",
              "\n",
              "[14991 rows x 5 columns]"
            ]
          },
          "metadata": {
            "tags": []
          },
          "execution_count": 14
        }
      ]
    },
    {
      "cell_type": "markdown",
      "metadata": {
        "id": "1kCfCDCNH_kJ"
      },
      "source": [
        "Q-1) Which are the top-5 states in terms of Revenue offered in the Month of April? How much revenue was collected from each of these states"
      ]
    },
    {
      "cell_type": "code",
      "metadata": {
        "colab": {
          "base_uri": "https://localhost:8080/",
          "height": 233
        },
        "id": "9ZMYmX5aKKjZ",
        "outputId": "767800c3-9cae-47e9-af1f-674594b7fbb8"
      },
      "source": [
        "States_vs_Revenue = df.groupby(\"State (entered by user)\")[[\"Revenue collected\"]].sum()\n",
        "States_vs_Revenue.nlargest(5, ['Revenue collected']) # Print Top 5 states in term of Revenue \n"
      ],
      "execution_count": 15,
      "outputs": [
        {
          "output_type": "execute_result",
          "data": {
            "text/html": [
              "<div>\n",
              "<style scoped>\n",
              "    .dataframe tbody tr th:only-of-type {\n",
              "        vertical-align: middle;\n",
              "    }\n",
              "\n",
              "    .dataframe tbody tr th {\n",
              "        vertical-align: top;\n",
              "    }\n",
              "\n",
              "    .dataframe thead th {\n",
              "        text-align: right;\n",
              "    }\n",
              "</style>\n",
              "<table border=\"1\" class=\"dataframe\">\n",
              "  <thead>\n",
              "    <tr style=\"text-align: right;\">\n",
              "      <th></th>\n",
              "      <th>Revenue collected</th>\n",
              "    </tr>\n",
              "    <tr>\n",
              "      <th>State (entered by user)</th>\n",
              "      <th></th>\n",
              "    </tr>\n",
              "  </thead>\n",
              "  <tbody>\n",
              "    <tr>\n",
              "      <th>Karnataka</th>\n",
              "      <td>58407.0</td>\n",
              "    </tr>\n",
              "    <tr>\n",
              "      <th>Utharakhand</th>\n",
              "      <td>44657.0</td>\n",
              "    </tr>\n",
              "    <tr>\n",
              "      <th>Madhya Pradesh</th>\n",
              "      <td>40016.0</td>\n",
              "    </tr>\n",
              "    <tr>\n",
              "      <th>Tamil Nadu</th>\n",
              "      <td>39647.0</td>\n",
              "    </tr>\n",
              "    <tr>\n",
              "      <th>Bihar</th>\n",
              "      <td>39235.0</td>\n",
              "    </tr>\n",
              "  </tbody>\n",
              "</table>\n",
              "</div>"
            ],
            "text/plain": [
              "                         Revenue collected\n",
              "State (entered by user)                   \n",
              "Karnataka                          58407.0\n",
              "Utharakhand                        44657.0\n",
              "Madhya Pradesh                     40016.0\n",
              "Tamil Nadu                         39647.0\n",
              "Bihar                              39235.0"
            ]
          },
          "metadata": {
            "tags": []
          },
          "execution_count": 15
        }
      ]
    },
    {
      "cell_type": "markdown",
      "metadata": {
        "id": "3wbrZMe9cMjg"
      },
      "source": [
        "Q-2) What is the average number of users active on the App per day?"
      ]
    },
    {
      "cell_type": "code",
      "metadata": {
        "colab": {
          "base_uri": "https://localhost:8080/"
        },
        "id": "TGHSXHi8PayB",
        "outputId": "476a0ec7-feb1-44ec-adac-afcd9daa4e00"
      },
      "source": [
        "# Finding Total number of Active Users per Day\n",
        "Active_user = df[[\"Date\", \"User Id\"]].copy()\n",
        "Active_user.sort_values(by='Date')\n",
        "\n",
        "Final_df = df.groupby('Date')['User Id'].count()\n",
        "Final_df\n",
        "\n",
        "print('Number of Active User per Day', (Final_df))\n"
      ],
      "execution_count": 49,
      "outputs": [
        {
          "output_type": "stream",
          "text": [
            "Number of Active User per Day Date\n",
            "2021-04-01    347\n",
            "2021-04-02    341\n",
            "2021-04-03    951\n",
            "2021-04-04    947\n",
            "2021-04-05    345\n",
            "2021-04-06    344\n",
            "2021-04-07    346\n",
            "2021-04-08    346\n",
            "2021-04-09    338\n",
            "2021-04-10    936\n",
            "2021-04-11    935\n",
            "2021-04-12    342\n",
            "2021-04-13    344\n",
            "2021-04-14    338\n",
            "2021-04-15    338\n",
            "2021-04-16    336\n",
            "2021-04-17    935\n",
            "2021-04-18    939\n",
            "2021-04-19    337\n",
            "2021-04-20    348\n",
            "2021-04-21    343\n",
            "2021-04-22    341\n",
            "2021-04-23    340\n",
            "2021-04-24    927\n",
            "2021-04-25    931\n",
            "2021-04-26    333\n",
            "2021-04-27    340\n",
            "2021-04-28    341\n",
            "2021-04-29    331\n",
            "2021-04-30    330\n",
            "Name: User Id, dtype: int64\n"
          ],
          "name": "stdout"
        }
      ]
    },
    {
      "cell_type": "code",
      "metadata": {
        "colab": {
          "base_uri": "https://localhost:8080/"
        },
        "id": "0F9MxHg7Ousm",
        "outputId": "7ea7f23c-89b3-4b69-e3db-ef574697ee2e"
      },
      "source": [
        "# Finding the Average Active Users per Day\n",
        "Final_df2 = df.groupby('Date')['User Id'].count().mean()\n",
        "math.ceil(Final_df2) # This function converts float value into Intger Because Users Value always be in Integer\n",
        "print(f'Number of Active User per day - {math.ceil(Final_df2)}')"
      ],
      "execution_count": 50,
      "outputs": [
        {
          "output_type": "stream",
          "text": [
            "Number of Active User per day - 500\n"
          ],
          "name": "stdout"
        }
      ]
    },
    {
      "cell_type": "markdown",
      "metadata": {
        "id": "9oljnKnzJAux"
      },
      "source": [
        "Q-3) What is the average revenue collected per user per day?"
      ]
    },
    {
      "cell_type": "code",
      "metadata": {
        "colab": {
          "base_uri": "https://localhost:8080/"
        },
        "id": "c5jSHSuga_YQ",
        "outputId": "f6f10677-af2a-420e-a41d-fa216069fd80"
      },
      "source": [
        "user_vs_Revenue = df.groupby(['User Id'])['Revenue collected'].agg(lambda x: x.unique().mean())\n",
        "user_vs_Revenue # Print Average Revenue collected per user per day"
      ],
      "execution_count": 51,
      "outputs": [
        {
          "output_type": "execute_result",
          "data": {
            "text/plain": [
              "User Id\n",
              "00395C20    31.458333\n",
              "00583276     6.000000\n",
              "008B558C    57.769231\n",
              "0099AD07    38.333333\n",
              "01C41039    41.375000\n",
              "              ...    \n",
              "FEFA03B7    37.375000\n",
              "FF08D5E5    11.400000\n",
              "FF2FC3C1    59.166667\n",
              "FF5B5B7F    57.300000\n",
              "FFAD51FD    42.857143\n",
              "Name: Revenue collected, Length: 1000, dtype: float64"
            ]
          },
          "metadata": {
            "tags": []
          },
          "execution_count": 51
        }
      ]
    },
    {
      "cell_type": "markdown",
      "metadata": {
        "id": "lNk6CvkJhBHO"
      },
      "source": [
        "# **Bonus Question - Other Insights from the Data**"
      ]
    },
    {
      "cell_type": "code",
      "metadata": {
        "colab": {
          "base_uri": "https://localhost:8080/"
        },
        "id": "02x2Pi00hMhn",
        "outputId": "dc4c9619-9194-408a-869d-1ef21db210d1"
      },
      "source": [
        "Final_df3 = df.groupby('Gender')['Revenue collected'].sum()\n",
        "Final_df3 # Creating Dataframe by Gender Vs Revenue Collected"
      ],
      "execution_count": 52,
      "outputs": [
        {
          "output_type": "execute_result",
          "data": {
            "text/plain": [
              "Gender\n",
              "F    245867.0\n",
              "M    551910.0\n",
              "Name: Revenue collected, dtype: float64"
            ]
          },
          "metadata": {
            "tags": []
          },
          "execution_count": 52
        }
      ]
    },
    {
      "cell_type": "markdown",
      "metadata": {
        "id": "MGD2Ryb66hip"
      },
      "source": [
        "Insights -\n",
        "\n",
        "1) From the obove analysis, We can see the Male are Contributing more than the fimale.\n",
        "\n",
        "2) The total Revenue collected by the Male is Double than the Female."
      ]
    },
    {
      "cell_type": "code",
      "metadata": {
        "colab": {
          "base_uri": "https://localhost:8080/"
        },
        "id": "c-ac-Rrq7UdG",
        "outputId": "da797d64-2a25-488a-bce2-b5fe70798ea2"
      },
      "source": [
        "Final_df # Print Total Number of Active User Per Day\n"
      ],
      "execution_count": 53,
      "outputs": [
        {
          "output_type": "execute_result",
          "data": {
            "text/plain": [
              "Date\n",
              "2021-04-01    347\n",
              "2021-04-02    341\n",
              "2021-04-03    951\n",
              "2021-04-04    947\n",
              "2021-04-05    345\n",
              "2021-04-06    344\n",
              "2021-04-07    346\n",
              "2021-04-08    346\n",
              "2021-04-09    338\n",
              "2021-04-10    936\n",
              "2021-04-11    935\n",
              "2021-04-12    342\n",
              "2021-04-13    344\n",
              "2021-04-14    338\n",
              "2021-04-15    338\n",
              "2021-04-16    336\n",
              "2021-04-17    935\n",
              "2021-04-18    939\n",
              "2021-04-19    337\n",
              "2021-04-20    348\n",
              "2021-04-21    343\n",
              "2021-04-22    341\n",
              "2021-04-23    340\n",
              "2021-04-24    927\n",
              "2021-04-25    931\n",
              "2021-04-26    333\n",
              "2021-04-27    340\n",
              "2021-04-28    341\n",
              "2021-04-29    331\n",
              "2021-04-30    330\n",
              "Name: User Id, dtype: int64"
            ]
          },
          "metadata": {
            "tags": []
          },
          "execution_count": 53
        }
      ]
    },
    {
      "cell_type": "markdown",
      "metadata": {
        "id": "1TFzjMDP8Mjm"
      },
      "source": [
        "Insights - \n",
        "\n",
        "1) From the Above Dataframe, We notice that the Number of Active Users are Increasing on Weekends"
      ]
    }
  ]
}